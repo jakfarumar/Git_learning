{
 "cells": [
  {
   "cell_type": "code",
   "execution_count": 2,
   "id": "5362ee7f-0beb-4564-a05e-d5c19ea122b2",
   "metadata": {
    "tags": []
   },
   "outputs": [
    {
     "name": "stdout",
     "output_type": "stream",
     "text": [
      "Playing : Penjaga Hati by nadhif basalamah\n",
      "tuk Karena selamanya bersamamu semua terasa indah\n",
      " gundah gulana hatiku telah hancur sirna\n",
      "\n",
      "janjiku takkan kulepas wahai kau bidadariku dari surga\n",
      " tuk selamanya\n",
      " tuk selamanya "
     ]
    }
   ],
   "source": [
    "import time\n",
    "from playsound import playsound\n",
    "from threading import Thread\n",
    "import os\n",
    "os.system('cls')\n",
    "def play():\n",
    "    playsound(\"PH.wav\")\n",
    "def lyric1():\n",
    "    print(\"Playing : Penjaga Hati by nadhif basalamah\")\n",
    "    time.sleep(3)\n",
    "    print(\"Karena\", end=' ',flush=True) \n",
    "    time.sleep(1)\n",
    "    print(\"bersamamu\", end=' ',flush=True)\n",
    "    time.sleep(1)\n",
    "    print(\"semua\", end=' ',flush=True)\n",
    "    time.sleep(1.5)\n",
    "    print(\"terasa\", end=' ',flush=True)\n",
    "    time.sleep(1)\n",
    "    print(\"indah\\n\", end=' ',flush=True,)\n",
    "    time.sleep(2)\n",
    "    os.system('cls')\n",
    "    \n",
    "    print(\"gundah\", end=' ',flush=True)\n",
    "    time.sleep(0.9)\n",
    "    print(\"gulana\", end=' ',flush=True)\n",
    "    time.sleep(1)\n",
    "    print(\"hatiku\", end=' ',flush=True)\n",
    "    time.sleep(1)\n",
    "    print(\"telah\", end=' ',flush=True)\n",
    "    time.sleep(0.8)\n",
    "    print(\"hancur\", end=' ',flush=True)\n",
    "    time.sleep(0.7)\n",
    "    print(\"sirna\\n\")\n",
    "    time.sleep(1.5)\n",
    "    os.system('cls')\n",
    "    \n",
    "    print(\"janjiku\", end=' ',flush=True) \n",
    "    time.sleep(1)\n",
    "    print(\"takkan\", end=' ',flush=True) \n",
    "    time.sleep(0.9)\n",
    "    print(\"kulepas\", end=' ',flush=True) \n",
    "    time.sleep(1.2)\n",
    "    print(\"wahai\", end=' ',flush=True)\n",
    "    time.sleep(0.7)\n",
    "    print(\"kau\", end=' ',flush=True)\n",
    "    time.sleep(0.7)\n",
    "    print(\"bidadariku\", end=' ',flush=True)\n",
    "    time.sleep(1.5)\n",
    "    print(\"dari\", end=' ',flush=True)\n",
    "    time.sleep(1)\n",
    "    print(\"surga\\n\", end=' ',flush=True)\n",
    "    time.sleep(1)\n",
    "    os.system('cls')\n",
    "    \n",
    "    print(\"tuk\", end=' ',flush=True)\n",
    "    time.sleep(1)\n",
    "    print(\"selamanya\\n\", end=' ',flush=True)\n",
    "    time.sleep(3.5)\n",
    "    os.system('cls')\n",
    "    time.sleep(1)\n",
    "    \n",
    "    time.sleep(0.3)\n",
    "    print(\"tuk\", end=' ',flush=True)\n",
    "    time.sleep(2.2)\n",
    "    print(\"selamanya\", end=' ',flush=True)\n",
    "t1 = Thread(target=play)\n",
    "t1.start()\n",
    "t2 = Thread(target=lyric1)\n",
    "t2.start()"
   ]
  }
 ],
 "metadata": {
  "kernelspec": {
   "display_name": "Python 3 (ipykernel)",
   "language": "python",
   "name": "python3"
  },
  "language_info": {
   "codemirror_mode": {
    "name": "ipython",
    "version": 3
   },
   "file_extension": ".py",
   "mimetype": "text/x-python",
   "name": "python",
   "nbconvert_exporter": "python",
   "pygments_lexer": "ipython3",
   "version": "3.11.3"
  }
 },
 "nbformat": 4,
 "nbformat_minor": 5
}
